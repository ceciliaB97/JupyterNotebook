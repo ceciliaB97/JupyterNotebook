{
 "cells": [
  {
   "cell_type": "markdown",
   "id": "19445d2d-304e-446a-be3e-d5d22f23282c",
   "metadata": {},
   "source": [
    "# This is a Lab Notebook\n",
    "\n",
    "This is "
   ]
  },
  {
   "cell_type": "code",
   "execution_count": 18,
   "id": "ca5e4087-37f5-49e4-a882-c85532564db6",
   "metadata": {
    "collapsed": true
   },
   "outputs": [
    {
     "name": "stdout",
     "output_type": "stream",
     "text": [
      "Requirement already satisfied: Pandas in c:\\users\\cecilia\\anaconda3\\lib\\site-packages (2.1.4)\n",
      "Requirement already satisfied: Scikit-learn in c:\\users\\cecilia\\anaconda3\\lib\\site-packages (1.2.2)\n",
      "Requirement already satisfied: Numpy in c:\\users\\cecilia\\anaconda3\\lib\\site-packages (1.26.4)\n",
      "Requirement already satisfied: h5py in c:\\users\\cecilia\\anaconda3\\lib\\site-packages (3.9.0)\n",
      "Requirement already satisfied: Cython in c:\\users\\cecilia\\anaconda3\\lib\\site-packages (3.0.10)\n",
      "Requirement already satisfied: Flask in c:\\users\\cecilia\\anaconda3\\lib\\site-packages (2.2.5)\n",
      "Requirement already satisfied: Seaborn in c:\\users\\cecilia\\anaconda3\\lib\\site-packages (0.12.2)\n",
      "Requirement already satisfied: Scipy in c:\\users\\cecilia\\anaconda3\\lib\\site-packages (1.11.4)\n",
      "Requirement already satisfied: Matplotlib in c:\\users\\cecilia\\anaconda3\\lib\\site-packages (3.8.0)\n",
      "Requirement already satisfied: Ipython in c:\\users\\cecilia\\anaconda3\\lib\\site-packages (8.20.0)\n",
      "Requirement already satisfied: Jupyter in c:\\users\\cecilia\\anaconda3\\lib\\site-packages (1.0.0)\n",
      "Requirement already satisfied: Sympy in c:\\users\\cecilia\\anaconda3\\lib\\site-packages (1.12)\n",
      "Requirement already satisfied: Nose in c:\\users\\cecilia\\anaconda3\\lib\\site-packages (1.3.7)\n",
      "Requirement already satisfied: python-dateutil>=2.8.2 in c:\\users\\cecilia\\anaconda3\\lib\\site-packages (from Pandas) (2.8.2)\n",
      "Requirement already satisfied: pytz>=2020.1 in c:\\users\\cecilia\\anaconda3\\lib\\site-packages (from Pandas) (2023.3.post1)\n",
      "Requirement already satisfied: tzdata>=2022.1 in c:\\users\\cecilia\\anaconda3\\lib\\site-packages (from Pandas) (2023.3)\n",
      "Requirement already satisfied: joblib>=1.1.1 in c:\\users\\cecilia\\anaconda3\\lib\\site-packages (from Scikit-learn) (1.2.0)\n",
      "Requirement already satisfied: threadpoolctl>=2.0.0 in c:\\users\\cecilia\\anaconda3\\lib\\site-packages (from Scikit-learn) (2.2.0)\n",
      "Requirement already satisfied: Werkzeug>=2.2.2 in c:\\users\\cecilia\\anaconda3\\lib\\site-packages (from Flask) (2.2.3)\n",
      "Requirement already satisfied: Jinja2>=3.0 in c:\\users\\cecilia\\anaconda3\\lib\\site-packages (from Flask) (3.1.3)\n",
      "Requirement already satisfied: itsdangerous>=2.0 in c:\\users\\cecilia\\anaconda3\\lib\\site-packages (from Flask) (2.0.1)\n",
      "Requirement already satisfied: click>=8.0 in c:\\users\\cecilia\\anaconda3\\lib\\site-packages (from Flask) (8.1.7)\n",
      "Requirement already satisfied: contourpy>=1.0.1 in c:\\users\\cecilia\\anaconda3\\lib\\site-packages (from Matplotlib) (1.2.0)\n",
      "Requirement already satisfied: cycler>=0.10 in c:\\users\\cecilia\\anaconda3\\lib\\site-packages (from Matplotlib) (0.11.0)\n",
      "Requirement already satisfied: fonttools>=4.22.0 in c:\\users\\cecilia\\anaconda3\\lib\\site-packages (from Matplotlib) (4.25.0)\n",
      "Requirement already satisfied: kiwisolver>=1.0.1 in c:\\users\\cecilia\\anaconda3\\lib\\site-packages (from Matplotlib) (1.4.4)\n",
      "Requirement already satisfied: packaging>=20.0 in c:\\users\\cecilia\\anaconda3\\lib\\site-packages (from Matplotlib) (23.1)\n",
      "Requirement already satisfied: pillow>=6.2.0 in c:\\users\\cecilia\\anaconda3\\lib\\site-packages (from Matplotlib) (10.2.0)\n",
      "Requirement already satisfied: pyparsing>=2.3.1 in c:\\users\\cecilia\\anaconda3\\lib\\site-packages (from Matplotlib) (3.0.9)\n",
      "Requirement already satisfied: decorator in c:\\users\\cecilia\\anaconda3\\lib\\site-packages (from Ipython) (5.1.1)\n",
      "Requirement already satisfied: jedi>=0.16 in c:\\users\\cecilia\\anaconda3\\lib\\site-packages (from Ipython) (0.18.1)\n",
      "Requirement already satisfied: matplotlib-inline in c:\\users\\cecilia\\anaconda3\\lib\\site-packages (from Ipython) (0.1.6)\n",
      "Requirement already satisfied: prompt-toolkit<3.1.0,>=3.0.41 in c:\\users\\cecilia\\anaconda3\\lib\\site-packages (from Ipython) (3.0.43)\n",
      "Requirement already satisfied: pygments>=2.4.0 in c:\\users\\cecilia\\anaconda3\\lib\\site-packages (from Ipython) (2.15.1)\n",
      "Requirement already satisfied: stack-data in c:\\users\\cecilia\\anaconda3\\lib\\site-packages (from Ipython) (0.2.0)\n",
      "Requirement already satisfied: traitlets>=5 in c:\\users\\cecilia\\anaconda3\\lib\\site-packages (from Ipython) (5.7.1)\n",
      "Requirement already satisfied: colorama in c:\\users\\cecilia\\anaconda3\\lib\\site-packages (from Ipython) (0.4.6)\n",
      "Requirement already satisfied: notebook in c:\\users\\cecilia\\anaconda3\\lib\\site-packages (from Jupyter) (6.5.4)\n",
      "Requirement already satisfied: qtconsole in c:\\users\\cecilia\\anaconda3\\lib\\site-packages (from Jupyter) (5.4.2)\n",
      "Requirement already satisfied: jupyter-console in c:\\users\\cecilia\\anaconda3\\lib\\site-packages (from Jupyter) (6.6.3)\n",
      "Requirement already satisfied: nbconvert in c:\\users\\cecilia\\anaconda3\\lib\\site-packages (from Jupyter) (7.10.0)\n",
      "Requirement already satisfied: ipykernel in c:\\users\\cecilia\\anaconda3\\lib\\site-packages (from Jupyter) (6.28.0)\n",
      "Requirement already satisfied: ipywidgets in c:\\users\\cecilia\\anaconda3\\lib\\site-packages (from Jupyter) (7.6.5)\n",
      "Requirement already satisfied: mpmath>=0.19 in c:\\users\\cecilia\\anaconda3\\lib\\site-packages (from Sympy) (1.3.0)\n",
      "Requirement already satisfied: parso<0.9.0,>=0.8.0 in c:\\users\\cecilia\\anaconda3\\lib\\site-packages (from jedi>=0.16->Ipython) (0.8.3)\n",
      "Requirement already satisfied: MarkupSafe>=2.0 in c:\\users\\cecilia\\anaconda3\\lib\\site-packages (from Jinja2>=3.0->Flask) (2.1.3)\n",
      "Requirement already satisfied: wcwidth in c:\\users\\cecilia\\anaconda3\\lib\\site-packages (from prompt-toolkit<3.1.0,>=3.0.41->Ipython) (0.2.5)\n",
      "Requirement already satisfied: six>=1.5 in c:\\users\\cecilia\\anaconda3\\lib\\site-packages (from python-dateutil>=2.8.2->Pandas) (1.16.0)\n",
      "Requirement already satisfied: comm>=0.1.1 in c:\\users\\cecilia\\anaconda3\\lib\\site-packages (from ipykernel->Jupyter) (0.1.2)\n",
      "Requirement already satisfied: debugpy>=1.6.5 in c:\\users\\cecilia\\anaconda3\\lib\\site-packages (from ipykernel->Jupyter) (1.6.7)\n",
      "Requirement already satisfied: jupyter-client>=6.1.12 in c:\\users\\cecilia\\anaconda3\\lib\\site-packages (from ipykernel->Jupyter) (7.4.9)\n",
      "Requirement already satisfied: jupyter-core!=5.0.*,>=4.12 in c:\\users\\cecilia\\anaconda3\\lib\\site-packages (from ipykernel->Jupyter) (5.5.0)\n",
      "Requirement already satisfied: nest-asyncio in c:\\users\\cecilia\\anaconda3\\lib\\site-packages (from ipykernel->Jupyter) (1.6.0)\n",
      "Requirement already satisfied: psutil in c:\\users\\cecilia\\anaconda3\\lib\\site-packages (from ipykernel->Jupyter) (5.9.0)\n",
      "Requirement already satisfied: pyzmq>=24 in c:\\users\\cecilia\\anaconda3\\lib\\site-packages (from ipykernel->Jupyter) (24.0.1)\n",
      "Requirement already satisfied: tornado>=6.1 in c:\\users\\cecilia\\anaconda3\\lib\\site-packages (from ipykernel->Jupyter) (6.3.3)\n",
      "Requirement already satisfied: ipython-genutils~=0.2.0 in c:\\users\\cecilia\\anaconda3\\lib\\site-packages (from ipywidgets->Jupyter) (0.2.0)\n",
      "Requirement already satisfied: nbformat>=4.2.0 in c:\\users\\cecilia\\anaconda3\\lib\\site-packages (from ipywidgets->Jupyter) (5.9.2)\n",
      "Requirement already satisfied: widgetsnbextension~=3.5.0 in c:\\users\\cecilia\\anaconda3\\lib\\site-packages (from ipywidgets->Jupyter) (3.5.2)\n",
      "Requirement already satisfied: jupyterlab-widgets>=1.0.0 in c:\\users\\cecilia\\anaconda3\\lib\\site-packages (from ipywidgets->Jupyter) (3.0.9)\n",
      "Requirement already satisfied: beautifulsoup4 in c:\\users\\cecilia\\anaconda3\\lib\\site-packages (from nbconvert->Jupyter) (4.12.2)\n",
      "Requirement already satisfied: bleach!=5.0.0 in c:\\users\\cecilia\\anaconda3\\lib\\site-packages (from nbconvert->Jupyter) (4.1.0)\n",
      "Requirement already satisfied: defusedxml in c:\\users\\cecilia\\anaconda3\\lib\\site-packages (from nbconvert->Jupyter) (0.7.1)\n",
      "Requirement already satisfied: jupyterlab-pygments in c:\\users\\cecilia\\anaconda3\\lib\\site-packages (from nbconvert->Jupyter) (0.1.2)\n",
      "Requirement already satisfied: mistune<4,>=2.0.3 in c:\\users\\cecilia\\anaconda3\\lib\\site-packages (from nbconvert->Jupyter) (2.0.4)\n",
      "Requirement already satisfied: nbclient>=0.5.0 in c:\\users\\cecilia\\anaconda3\\lib\\site-packages (from nbconvert->Jupyter) (0.8.0)\n",
      "Requirement already satisfied: pandocfilters>=1.4.1 in c:\\users\\cecilia\\anaconda3\\lib\\site-packages (from nbconvert->Jupyter) (1.5.0)\n",
      "Requirement already satisfied: tinycss2 in c:\\users\\cecilia\\anaconda3\\lib\\site-packages (from nbconvert->Jupyter) (1.2.1)\n",
      "Requirement already satisfied: argon2-cffi in c:\\users\\cecilia\\anaconda3\\lib\\site-packages (from notebook->Jupyter) (21.3.0)\n",
      "Requirement already satisfied: Send2Trash>=1.8.0 in c:\\users\\cecilia\\anaconda3\\lib\\site-packages (from notebook->Jupyter) (1.8.2)\n",
      "Requirement already satisfied: terminado>=0.8.3 in c:\\users\\cecilia\\anaconda3\\lib\\site-packages (from notebook->Jupyter) (0.17.1)\n",
      "Requirement already satisfied: prometheus-client in c:\\users\\cecilia\\anaconda3\\lib\\site-packages (from notebook->Jupyter) (0.14.1)\n",
      "Requirement already satisfied: nbclassic>=0.4.7 in c:\\users\\cecilia\\anaconda3\\lib\\site-packages (from notebook->Jupyter) (1.0.0)\n",
      "Requirement already satisfied: qtpy>=2.0.1 in c:\\users\\cecilia\\anaconda3\\lib\\site-packages (from qtconsole->Jupyter) (2.4.1)\n",
      "Requirement already satisfied: executing in c:\\users\\cecilia\\anaconda3\\lib\\site-packages (from stack-data->Ipython) (0.8.3)\n",
      "Requirement already satisfied: asttokens in c:\\users\\cecilia\\anaconda3\\lib\\site-packages (from stack-data->Ipython) (2.0.5)\n",
      "Requirement already satisfied: pure-eval in c:\\users\\cecilia\\anaconda3\\lib\\site-packages (from stack-data->Ipython) (0.2.2)\n",
      "Requirement already satisfied: webencodings in c:\\users\\cecilia\\anaconda3\\lib\\site-packages (from bleach!=5.0.0->nbconvert->Jupyter) (0.5.1)\n",
      "Requirement already satisfied: entrypoints in c:\\users\\cecilia\\anaconda3\\lib\\site-packages (from jupyter-client>=6.1.12->ipykernel->Jupyter) (0.4)\n",
      "Requirement already satisfied: platformdirs>=2.5 in c:\\users\\cecilia\\anaconda3\\lib\\site-packages (from jupyter-core!=5.0.*,>=4.12->ipykernel->Jupyter) (3.10.0)\n",
      "Requirement already satisfied: pywin32>=300 in c:\\users\\cecilia\\anaconda3\\lib\\site-packages (from jupyter-core!=5.0.*,>=4.12->ipykernel->Jupyter) (305.1)\n",
      "Requirement already satisfied: jupyter-server>=1.8 in c:\\users\\cecilia\\anaconda3\\lib\\site-packages (from nbclassic>=0.4.7->notebook->Jupyter) (2.10.0)\n",
      "Requirement already satisfied: notebook-shim>=0.2.3 in c:\\users\\cecilia\\anaconda3\\lib\\site-packages (from nbclassic>=0.4.7->notebook->Jupyter) (0.2.3)\n",
      "Requirement already satisfied: fastjsonschema in c:\\users\\cecilia\\anaconda3\\lib\\site-packages (from nbformat>=4.2.0->ipywidgets->Jupyter) (2.16.2)\n",
      "Requirement already satisfied: jsonschema>=2.6 in c:\\users\\cecilia\\anaconda3\\lib\\site-packages (from nbformat>=4.2.0->ipywidgets->Jupyter) (4.19.2)\n",
      "Requirement already satisfied: pywinpty>=1.1.0 in c:\\users\\cecilia\\anaconda3\\lib\\site-packages (from terminado>=0.8.3->notebook->Jupyter) (2.0.10)\n",
      "Requirement already satisfied: argon2-cffi-bindings in c:\\users\\cecilia\\anaconda3\\lib\\site-packages (from argon2-cffi->notebook->Jupyter) (21.2.0)\n",
      "Requirement already satisfied: soupsieve>1.2 in c:\\users\\cecilia\\anaconda3\\lib\\site-packages (from beautifulsoup4->nbconvert->Jupyter) (2.5)\n",
      "Requirement already satisfied: attrs>=22.2.0 in c:\\users\\cecilia\\anaconda3\\lib\\site-packages (from jsonschema>=2.6->nbformat>=4.2.0->ipywidgets->Jupyter) (23.1.0)\n",
      "Requirement already satisfied: jsonschema-specifications>=2023.03.6 in c:\\users\\cecilia\\anaconda3\\lib\\site-packages (from jsonschema>=2.6->nbformat>=4.2.0->ipywidgets->Jupyter) (2023.7.1)\n",
      "Requirement already satisfied: referencing>=0.28.4 in c:\\users\\cecilia\\anaconda3\\lib\\site-packages (from jsonschema>=2.6->nbformat>=4.2.0->ipywidgets->Jupyter) (0.30.2)\n",
      "Requirement already satisfied: rpds-py>=0.7.1 in c:\\users\\cecilia\\anaconda3\\lib\\site-packages (from jsonschema>=2.6->nbformat>=4.2.0->ipywidgets->Jupyter) (0.10.6)\n",
      "Requirement already satisfied: anyio>=3.1.0 in c:\\users\\cecilia\\anaconda3\\lib\\site-packages (from jupyter-server>=1.8->nbclassic>=0.4.7->notebook->Jupyter) (4.2.0)\n",
      "Requirement already satisfied: jupyter-events>=0.6.0 in c:\\users\\cecilia\\anaconda3\\lib\\site-packages (from jupyter-server>=1.8->nbclassic>=0.4.7->notebook->Jupyter) (0.8.0)\n",
      "Requirement already satisfied: jupyter-server-terminals in c:\\users\\cecilia\\anaconda3\\lib\\site-packages (from jupyter-server>=1.8->nbclassic>=0.4.7->notebook->Jupyter) (0.4.4)\n",
      "Requirement already satisfied: overrides in c:\\users\\cecilia\\anaconda3\\lib\\site-packages (from jupyter-server>=1.8->nbclassic>=0.4.7->notebook->Jupyter) (7.4.0)\n",
      "Requirement already satisfied: websocket-client in c:\\users\\cecilia\\anaconda3\\lib\\site-packages (from jupyter-server>=1.8->nbclassic>=0.4.7->notebook->Jupyter) (0.58.0)\n",
      "Requirement already satisfied: cffi>=1.0.1 in c:\\users\\cecilia\\anaconda3\\lib\\site-packages (from argon2-cffi-bindings->argon2-cffi->notebook->Jupyter) (1.16.0)\n",
      "Requirement already satisfied: idna>=2.8 in c:\\users\\cecilia\\anaconda3\\lib\\site-packages (from anyio>=3.1.0->jupyter-server>=1.8->nbclassic>=0.4.7->notebook->Jupyter) (3.4)\n",
      "Requirement already satisfied: sniffio>=1.1 in c:\\users\\cecilia\\anaconda3\\lib\\site-packages (from anyio>=3.1.0->jupyter-server>=1.8->nbclassic>=0.4.7->notebook->Jupyter) (1.3.0)\n",
      "Requirement already satisfied: pycparser in c:\\users\\cecilia\\anaconda3\\lib\\site-packages (from cffi>=1.0.1->argon2-cffi-bindings->argon2-cffi->notebook->Jupyter) (2.21)\n",
      "Requirement already satisfied: python-json-logger>=2.0.4 in c:\\users\\cecilia\\anaconda3\\lib\\site-packages (from jupyter-events>=0.6.0->jupyter-server>=1.8->nbclassic>=0.4.7->notebook->Jupyter) (2.0.7)\n",
      "Requirement already satisfied: pyyaml>=5.3 in c:\\users\\cecilia\\anaconda3\\lib\\site-packages (from jupyter-events>=0.6.0->jupyter-server>=1.8->nbclassic>=0.4.7->notebook->Jupyter) (6.0.1)\n",
      "Requirement already satisfied: rfc3339-validator in c:\\users\\cecilia\\anaconda3\\lib\\site-packages (from jupyter-events>=0.6.0->jupyter-server>=1.8->nbclassic>=0.4.7->notebook->Jupyter) (0.1.4)\n",
      "Requirement already satisfied: rfc3986-validator>=0.1.1 in c:\\users\\cecilia\\anaconda3\\lib\\site-packages (from jupyter-events>=0.6.0->jupyter-server>=1.8->nbclassic>=0.4.7->notebook->Jupyter) (0.1.1)\n",
      "Requirement already satisfied: fqdn in c:\\users\\cecilia\\anaconda3\\lib\\site-packages (from jsonschema[format-nongpl]>=4.18.0->jupyter-events>=0.6.0->jupyter-server>=1.8->nbclassic>=0.4.7->notebook->Jupyter) (1.5.1)\n",
      "Requirement already satisfied: isoduration in c:\\users\\cecilia\\anaconda3\\lib\\site-packages (from jsonschema[format-nongpl]>=4.18.0->jupyter-events>=0.6.0->jupyter-server>=1.8->nbclassic>=0.4.7->notebook->Jupyter) (20.11.0)\n",
      "Requirement already satisfied: jsonpointer>1.13 in c:\\users\\cecilia\\anaconda3\\lib\\site-packages (from jsonschema[format-nongpl]>=4.18.0->jupyter-events>=0.6.0->jupyter-server>=1.8->nbclassic>=0.4.7->notebook->Jupyter) (2.1)\n",
      "Requirement already satisfied: uri-template in c:\\users\\cecilia\\anaconda3\\lib\\site-packages (from jsonschema[format-nongpl]>=4.18.0->jupyter-events>=0.6.0->jupyter-server>=1.8->nbclassic>=0.4.7->notebook->Jupyter) (1.3.0)\n",
      "Requirement already satisfied: webcolors>=1.11 in c:\\users\\cecilia\\anaconda3\\lib\\site-packages (from jsonschema[format-nongpl]>=4.18.0->jupyter-events>=0.6.0->jupyter-server>=1.8->nbclassic>=0.4.7->notebook->Jupyter) (1.13)\n",
      "Requirement already satisfied: arrow>=0.15.0 in c:\\users\\cecilia\\anaconda3\\lib\\site-packages (from isoduration->jsonschema[format-nongpl]>=4.18.0->jupyter-events>=0.6.0->jupyter-server>=1.8->nbclassic>=0.4.7->notebook->Jupyter) (1.2.3)\n"
     ]
    },
    {
     "name": "stdout",
     "output_type": "stream",
     "text": [
      "Requirement already satisfied: seaborn in c:\\users\\cecilia\\anaconda3\\lib\\site-packages (0.12.2)\n",
      "Collecting seaborn\n",
      "  Downloading seaborn-0.13.2-py3-none-any.whl.metadata (5.4 kB)\n",
      "Requirement already satisfied: numpy!=1.24.0,>=1.20 in c:\\users\\cecilia\\anaconda3\\lib\\site-packages (from seaborn) (1.26.4)\n",
      "Requirement already satisfied: pandas>=1.2 in c:\\users\\cecilia\\anaconda3\\lib\\site-packages (from seaborn) (2.1.4)\n",
      "Requirement already satisfied: matplotlib!=3.6.1,>=3.4 in c:\\users\\cecilia\\anaconda3\\lib\\site-packages (from seaborn) (3.8.0)\n",
      "Requirement already satisfied: contourpy>=1.0.1 in c:\\users\\cecilia\\anaconda3\\lib\\site-packages (from matplotlib!=3.6.1,>=3.4->seaborn) (1.2.0)\n",
      "Requirement already satisfied: cycler>=0.10 in c:\\users\\cecilia\\anaconda3\\lib\\site-packages (from matplotlib!=3.6.1,>=3.4->seaborn) (0.11.0)\n",
      "Requirement already satisfied: fonttools>=4.22.0 in c:\\users\\cecilia\\anaconda3\\lib\\site-packages (from matplotlib!=3.6.1,>=3.4->seaborn) (4.25.0)\n",
      "Requirement already satisfied: kiwisolver>=1.0.1 in c:\\users\\cecilia\\anaconda3\\lib\\site-packages (from matplotlib!=3.6.1,>=3.4->seaborn) (1.4.4)\n",
      "Requirement already satisfied: packaging>=20.0 in c:\\users\\cecilia\\anaconda3\\lib\\site-packages (from matplotlib!=3.6.1,>=3.4->seaborn) (23.1)\n",
      "Requirement already satisfied: pillow>=6.2.0 in c:\\users\\cecilia\\anaconda3\\lib\\site-packages (from matplotlib!=3.6.1,>=3.4->seaborn) (10.2.0)\n",
      "Requirement already satisfied: pyparsing>=2.3.1 in c:\\users\\cecilia\\anaconda3\\lib\\site-packages (from matplotlib!=3.6.1,>=3.4->seaborn) (3.0.9)\n",
      "Requirement already satisfied: python-dateutil>=2.7 in c:\\users\\cecilia\\anaconda3\\lib\\site-packages (from matplotlib!=3.6.1,>=3.4->seaborn) (2.8.2)\n",
      "Requirement already satisfied: pytz>=2020.1 in c:\\users\\cecilia\\anaconda3\\lib\\site-packages (from pandas>=1.2->seaborn) (2023.3.post1)\n",
      "Requirement already satisfied: tzdata>=2022.1 in c:\\users\\cecilia\\anaconda3\\lib\\site-packages (from pandas>=1.2->seaborn) (2023.3)\n",
      "Requirement already satisfied: six>=1.5 in c:\\users\\cecilia\\anaconda3\\lib\\site-packages (from python-dateutil>=2.7->matplotlib!=3.6.1,>=3.4->seaborn) (1.16.0)\n",
      "Downloading seaborn-0.13.2-py3-none-any.whl (294 kB)\n",
      "   ---------------------------------------- 0.0/294.9 kB ? eta -:--:--\n",
      "   - -------------------------------------- 10.2/294.9 kB ? eta -:--:--\n",
      "   ---- ---------------------------------- 30.7/294.9 kB 445.2 kB/s eta 0:00:01\n",
      "   --------------------------------- ------ 245.8/294.9 kB 2.2 MB/s eta 0:00:01\n",
      "   ---------------------------------------- 294.9/294.9 kB 2.3 MB/s eta 0:00:00\n",
      "Installing collected packages: seaborn\n",
      "  Attempting uninstall: seaborn\n",
      "    Found existing installation: seaborn 0.12.2\n",
      "    Uninstalling seaborn-0.12.2:\n",
      "      Successfully uninstalled seaborn-0.12.2\n",
      "Successfully installed seaborn-0.13.2\n",
      "Requirement already satisfied: pandas in c:\\users\\cecilia\\anaconda3\\lib\\site-packages (2.1.4)\n",
      "Collecting pandas\n",
      "  Downloading pandas-2.2.2-cp311-cp311-win_amd64.whl.metadata (19 kB)\n",
      "Requirement already satisfied: numpy>=1.23.2 in c:\\users\\cecilia\\anaconda3\\lib\\site-packages (from pandas) (1.26.4)\n",
      "Requirement already satisfied: python-dateutil>=2.8.2 in c:\\users\\cecilia\\anaconda3\\lib\\site-packages (from pandas) (2.8.2)\n",
      "Requirement already satisfied: pytz>=2020.1 in c:\\users\\cecilia\\anaconda3\\lib\\site-packages (from pandas) (2023.3.post1)\n",
      "Requirement already satisfied: tzdata>=2022.7 in c:\\users\\cecilia\\anaconda3\\lib\\site-packages (from pandas) (2023.3)\n",
      "Requirement already satisfied: six>=1.5 in c:\\users\\cecilia\\anaconda3\\lib\\site-packages (from python-dateutil>=2.8.2->pandas) (1.16.0)\n",
      "Downloading pandas-2.2.2-cp311-cp311-win_amd64.whl (11.6 MB)\n",
      "   ---------------------------------------- 0.0/11.6 MB ? eta -:--:--\n",
      "   ---------------------------------------- 0.0/11.6 MB 660.6 kB/s eta 0:00:18\n",
      "   - -------------------------------------- 0.3/11.6 MB 3.9 MB/s eta 0:00:03\n",
      "   -- ------------------------------------- 0.8/11.6 MB 6.1 MB/s eta 0:00:02\n",
      "   ---- ----------------------------------- 1.3/11.6 MB 7.3 MB/s eta 0:00:02\n",
      "   ------ --------------------------------- 1.8/11.6 MB 8.0 MB/s eta 0:00:02\n",
      "   ------- -------------------------------- 2.3/11.6 MB 8.6 MB/s eta 0:00:02\n",
      "   --------- ------------------------------ 2.8/11.6 MB 9.0 MB/s eta 0:00:01\n",
      "   ----------- ---------------------------- 3.3/11.6 MB 9.3 MB/s eta 0:00:01\n",
      "   ------------- -------------------------- 3.9/11.6 MB 9.5 MB/s eta 0:00:01\n",
      "   -------------- ------------------------- 4.3/11.6 MB 9.8 MB/s eta 0:00:01\n",
      "   ---------------- ----------------------- 4.9/11.6 MB 10.1 MB/s eta 0:00:01\n",
      "   ------------------ --------------------- 5.4/11.6 MB 10.2 MB/s eta 0:00:01\n",
      "   -------------------- ------------------- 5.9/11.6 MB 10.2 MB/s eta 0:00:01\n",
      "   ---------------------- ----------------- 6.5/11.6 MB 10.3 MB/s eta 0:00:01\n",
      "   ------------------------ --------------- 7.0/11.6 MB 10.4 MB/s eta 0:00:01\n",
      "   ------------------------- -------------- 7.5/11.6 MB 10.4 MB/s eta 0:00:01\n",
      "   -------------------------- ------------- 7.8/11.6 MB 10.4 MB/s eta 0:00:01\n",
      "   ----------------------------- ---------- 8.5/11.6 MB 10.5 MB/s eta 0:00:01\n",
      "   ------------------------------- -------- 9.0/11.6 MB 10.5 MB/s eta 0:00:01\n",
      "   -------------------------------- ------- 9.6/11.6 MB 10.5 MB/s eta 0:00:01\n",
      "   ---------------------------------- ----- 10.0/11.6 MB 10.6 MB/s eta 0:00:01\n",
      "   ------------------------------------ --- 10.6/11.6 MB 11.3 MB/s eta 0:00:01\n",
      "   -------------------------------------- - 11.1/11.6 MB 11.3 MB/s eta 0:00:01\n",
      "   ---------------------------------------  11.6/11.6 MB 11.5 MB/s eta 0:00:01\n",
      "   ---------------------------------------- 11.6/11.6 MB 10.7 MB/s eta 0:00:00\n",
      "Installing collected packages: pandas\n",
      "  Attempting uninstall: pandas\n",
      "    Found existing installation: pandas 2.1.4\n",
      "    Uninstalling pandas-2.1.4:\n",
      "      Successfully uninstalled pandas-2.1.4\n",
      "Successfully installed pandas-2.2.2\n"
     ]
    },
    {
     "name": "stderr",
     "output_type": "stream",
     "text": [
      "  WARNING: Failed to remove contents in a temporary directory 'C:\\Users\\Cecilia\\anaconda3\\Lib\\site-packages\\~andas'.\n",
      "  You can safely remove it manually.\n"
     ]
    }
   ],
   "source": [
    "!pip  install Pandas Scikit-learn Numpy h5py Cython Flask Seaborn Scipy Numpy Matplotlib Ipython Jupyter Sympy Nose\n",
    "!pip install seaborn --upgrade\n",
    "!pip install pandas --upgrade"
   ]
  },
  {
   "cell_type": "code",
   "execution_count": 11,
   "id": "ef3cf5b5-2285-4e72-8176-6d3429c5a56a",
   "metadata": {},
   "outputs": [
    {
     "data": {
      "text/plain": [
       "pandas.core.frame.DataFrame"
      ]
     },
     "execution_count": 11,
     "metadata": {},
     "output_type": "execute_result"
    }
   ],
   "source": [
    "import seaborn\n",
    "import numpy as np\n",
    "# The deprecated warnings will be ignored in order to avoid showing unnecessary information\n",
    "import warnings\n",
    "warnings.filterwarnings('ignore', category=FutureWarning, module='seaborn._odlcore')\n",
    "\n",
    "iris = seaborn.load_dataset(\"iris\")\n",
    "type(iris)"
   ]
  },
  {
   "cell_type": "code",
   "execution_count": 12,
   "id": "d21bd0f7",
   "metadata": {},
   "outputs": [
    {
     "data": {
      "text/plain": [
       "sepal_length    float64\n",
       "sepal_width     float64\n",
       "petal_length    float64\n",
       "petal_width     float64\n",
       "species          object\n",
       "dtype: object"
      ]
     },
     "execution_count": 12,
     "metadata": {},
     "output_type": "execute_result"
    }
   ],
   "source": [
    "# Replace positive infinite values with NaN\n",
    "iris = iris.replace([np.inf], np.nan)\n",
    "# Replace negative infinite values with NaN\n",
    "iris = iris.replace([-np.inf], np.nan)\n",
    "iris.dtypes"
   ]
  },
  {
   "cell_type": "code",
   "execution_count": 13,
   "id": "70a25e34-dda5-41a1-b94f-02e4369822af",
   "metadata": {},
   "outputs": [
    {
     "data": {
      "text/html": [
       "<div>\n",
       "<style scoped>\n",
       "    .dataframe tbody tr th:only-of-type {\n",
       "        vertical-align: middle;\n",
       "    }\n",
       "\n",
       "    .dataframe tbody tr th {\n",
       "        vertical-align: top;\n",
       "    }\n",
       "\n",
       "    .dataframe thead th {\n",
       "        text-align: right;\n",
       "    }\n",
       "</style>\n",
       "<table border=\"1\" class=\"dataframe\">\n",
       "  <thead>\n",
       "    <tr style=\"text-align: right;\">\n",
       "      <th></th>\n",
       "      <th>sepal_length</th>\n",
       "      <th>sepal_width</th>\n",
       "      <th>petal_length</th>\n",
       "      <th>petal_width</th>\n",
       "      <th>species</th>\n",
       "    </tr>\n",
       "  </thead>\n",
       "  <tbody>\n",
       "    <tr>\n",
       "      <th>0</th>\n",
       "      <td>5.1</td>\n",
       "      <td>3.5</td>\n",
       "      <td>1.4</td>\n",
       "      <td>0.2</td>\n",
       "      <td>setosa</td>\n",
       "    </tr>\n",
       "    <tr>\n",
       "      <th>1</th>\n",
       "      <td>4.9</td>\n",
       "      <td>3.0</td>\n",
       "      <td>1.4</td>\n",
       "      <td>0.2</td>\n",
       "      <td>setosa</td>\n",
       "    </tr>\n",
       "    <tr>\n",
       "      <th>2</th>\n",
       "      <td>4.7</td>\n",
       "      <td>3.2</td>\n",
       "      <td>1.3</td>\n",
       "      <td>0.2</td>\n",
       "      <td>setosa</td>\n",
       "    </tr>\n",
       "    <tr>\n",
       "      <th>3</th>\n",
       "      <td>4.6</td>\n",
       "      <td>3.1</td>\n",
       "      <td>1.5</td>\n",
       "      <td>0.2</td>\n",
       "      <td>setosa</td>\n",
       "    </tr>\n",
       "    <tr>\n",
       "      <th>4</th>\n",
       "      <td>5.0</td>\n",
       "      <td>3.6</td>\n",
       "      <td>1.4</td>\n",
       "      <td>0.2</td>\n",
       "      <td>setosa</td>\n",
       "    </tr>\n",
       "  </tbody>\n",
       "</table>\n",
       "</div>"
      ],
      "text/plain": [
       "   sepal_length  sepal_width  petal_length  petal_width species\n",
       "0           5.1          3.5           1.4          0.2  setosa\n",
       "1           4.9          3.0           1.4          0.2  setosa\n",
       "2           4.7          3.2           1.3          0.2  setosa\n",
       "3           4.6          3.1           1.5          0.2  setosa\n",
       "4           5.0          3.6           1.4          0.2  setosa"
      ]
     },
     "execution_count": 13,
     "metadata": {},
     "output_type": "execute_result"
    }
   ],
   "source": [
    "iris.head()"
   ]
  },
  {
   "cell_type": "code",
   "execution_count": 14,
   "id": "5a50e6a3-68fc-46be-a433-ad249b9696a6",
   "metadata": {},
   "outputs": [
    {
     "data": {
      "text/plain": [
       "sepal_length    150\n",
       "sepal_width     150\n",
       "petal_length    150\n",
       "petal_width     150\n",
       "species         150\n",
       "dtype: int64"
      ]
     },
     "execution_count": 14,
     "metadata": {},
     "output_type": "execute_result"
    }
   ],
   "source": [
    "iris.count()"
   ]
  },
  {
   "cell_type": "code",
   "execution_count": 15,
   "id": "ceed3a6f-f27d-471e-a25d-58aeb3d0586d",
   "metadata": {},
   "outputs": [
    {
     "data": {
      "text/plain": [
       "array(['setosa', 'versicolor', 'virginica'], dtype=object)"
      ]
     },
     "execution_count": 15,
     "metadata": {},
     "output_type": "execute_result"
    }
   ],
   "source": [
    "iris['species'].unique()"
   ]
  },
  {
   "cell_type": "code",
   "execution_count": 16,
   "id": "cfaac8d9-2a6a-4d1b-afb4-3b9d53cd5905",
   "metadata": {},
   "outputs": [
    {
     "data": {
      "text/html": [
       "<div>\n",
       "<style scoped>\n",
       "    .dataframe tbody tr th:only-of-type {\n",
       "        vertical-align: middle;\n",
       "    }\n",
       "\n",
       "    .dataframe tbody tr th {\n",
       "        vertical-align: top;\n",
       "    }\n",
       "\n",
       "    .dataframe thead th {\n",
       "        text-align: right;\n",
       "    }\n",
       "</style>\n",
       "<table border=\"1\" class=\"dataframe\">\n",
       "  <thead>\n",
       "    <tr style=\"text-align: right;\">\n",
       "      <th></th>\n",
       "      <th>sepal_length</th>\n",
       "      <th>sepal_width</th>\n",
       "      <th>petal_length</th>\n",
       "      <th>petal_width</th>\n",
       "    </tr>\n",
       "    <tr>\n",
       "      <th>species</th>\n",
       "      <th></th>\n",
       "      <th></th>\n",
       "      <th></th>\n",
       "      <th></th>\n",
       "    </tr>\n",
       "  </thead>\n",
       "  <tbody>\n",
       "    <tr>\n",
       "      <th>setosa</th>\n",
       "      <td>50</td>\n",
       "      <td>50</td>\n",
       "      <td>50</td>\n",
       "      <td>50</td>\n",
       "    </tr>\n",
       "    <tr>\n",
       "      <th>versicolor</th>\n",
       "      <td>50</td>\n",
       "      <td>50</td>\n",
       "      <td>50</td>\n",
       "      <td>50</td>\n",
       "    </tr>\n",
       "    <tr>\n",
       "      <th>virginica</th>\n",
       "      <td>50</td>\n",
       "      <td>50</td>\n",
       "      <td>50</td>\n",
       "      <td>50</td>\n",
       "    </tr>\n",
       "  </tbody>\n",
       "</table>\n",
       "</div>"
      ],
      "text/plain": [
       "            sepal_length  sepal_width  petal_length  petal_width\n",
       "species                                                         \n",
       "setosa                50           50            50           50\n",
       "versicolor            50           50            50           50\n",
       "virginica             50           50            50           50"
      ]
     },
     "execution_count": 16,
     "metadata": {},
     "output_type": "execute_result"
    }
   ],
   "source": [
    "iris.groupby('species').count()"
   ]
  },
  {
   "cell_type": "code",
   "execution_count": null,
   "id": "f88fbfba-4806-4ee4-8574-fbe56948ccec",
   "metadata": {},
   "outputs": [],
   "source": [
    "# The deprecated warnings have been ignored in order to avoid showing unnecessary information\n",
    "seaborn.pairplot(iris, hue=\"species\")"
   ]
  },
  {
   "cell_type": "code",
   "execution_count": null,
   "id": "63073187",
   "metadata": {},
   "outputs": [],
   "source": []
  }
 ],
 "metadata": {
  "kernelspec": {
   "display_name": "Python 3 (ipykernel)",
   "language": "python",
   "name": "python3"
  },
  "language_info": {
   "codemirror_mode": {
    "name": "ipython",
    "version": 3
   },
   "file_extension": ".py",
   "mimetype": "text/x-python",
   "name": "python",
   "nbconvert_exporter": "python",
   "pygments_lexer": "ipython3",
   "version": "3.11.7"
  }
 },
 "nbformat": 4,
 "nbformat_minor": 5
}
